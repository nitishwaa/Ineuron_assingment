{
 "cells": [
  {
   "cell_type": "markdown",
   "id": "0ff8ddc9",
   "metadata": {},
   "source": [
    "1. Two values of Boolean data types:-\n",
    "a. True\n",
    "b. False\n",
    "\n",
    "It is used to represent the truth values of the expressions. For example, 6>3 is True whereas 7<10 is False."
   ]
  },
  {
   "cell_type": "markdown",
   "id": "ce40334f",
   "metadata": {},
   "source": [
    "# 2. \n",
    "### These operators are and , or , and not."
   ]
  },
  {
   "cell_type": "markdown",
   "id": "78ec0251",
   "metadata": {},
   "source": [
    "# 3. \n",
    "### AND\n",
    "### Input A\tInput B\tOutput Q\n",
    "#### 0\t0\t0\n",
    "#### 0\t1\t0\n",
    "#### 1\t0\t0\n",
    "#### 1\t1\t1\n",
    "### OR\n",
    "### Input A\tInput B\tOutput Q\n",
    "#### 0\t0\t0\n",
    "#### 0\t1\t1\n",
    "#### 1\t0\t1\n",
    "#### 1\t1\t1\n",
    "### NOT\n",
    "### Input A\tOutput Q\n",
    "#### 0\t1\n",
    "#### 1\t0"
   ]
  },
  {
   "cell_type": "markdown",
   "id": "bf8ac548",
   "metadata": {},
   "source": [
    "# 4. \n",
    "### (5 > 4) and (3 == 5) -> False(0)\n",
    "### not (5 > 4) -> False(0)\n",
    "### (5 > 4) or (3 == 5) -> True(1)\n",
    "### not ((5 > 4) or (3 == 5)) -> False(0)\n",
    "### (True and True) and (True == False) -> False(0)\n",
    "### (not False) or (not True) -> True(1)\n"
   ]
  },
  {
   "cell_type": "markdown",
   "id": "c8236247",
   "metadata": {},
   "source": [
    "# 5.\n",
    "### Less than ( < )\n",
    "### Less than or equal to ( <= )\n",
    "### Greater than ( > )\n",
    "### Greater than or equal to ( >= )\n",
    "### Equal to ( == )\n",
    "### Not equal to ( != )"
   ]
  },
  {
   "cell_type": "markdown",
   "id": "5b3957ce",
   "metadata": {},
   "source": [
    "# 6.\n",
    "### Equal to ( == ) , it is used to compare between two values. e.g- a==5, here we are comparing whether the value stored in a is equal to 5 or not.\n",
    "### Assingment operator (=), it is used to assign a value to a avariable. e.g- a=5, here 5 is assinged to variable a"
   ]
  },
  {
   "cell_type": "markdown",
   "id": "9836af2c",
   "metadata": {},
   "source": [
    "# 7.\n"
   ]
  },
  {
   "cell_type": "code",
   "execution_count": 2,
   "id": "6b40d656",
   "metadata": {},
   "outputs": [
    {
     "name": "stdout",
     "output_type": "stream",
     "text": [
      "ham\n",
      "spam\n",
      "spam\n"
     ]
    }
   ],
   "source": [
    "spam = 0\n",
    "# Block 1\n",
    "if spam == 10:\n",
    "    print('eggs')\n",
    "# Block 2\n",
    "if spam > 5:\n",
    "    print('bacon')\n",
    "# Block 3\n",
    "else:\n",
    "    print('ham')\n",
    "    print('spam')\n",
    "    print('spam')"
   ]
  },
  {
   "cell_type": "markdown",
   "id": "13022525",
   "metadata": {},
   "source": [
    "# 8."
   ]
  },
  {
   "cell_type": "code",
   "execution_count": 4,
   "id": "c70b6294",
   "metadata": {},
   "outputs": [
    {
     "name": "stdout",
     "output_type": "stream",
     "text": [
      "Enter any number1\n",
      "Hello\n"
     ]
    }
   ],
   "source": [
    "spam=int(input(\"Enter any number\"))\n",
    "if spam==1:\n",
    "    print(\"Hello\")\n",
    "elif spam==2:\n",
    "    print(\"Howdy\")\n",
    "else:\n",
    "    print(\"Greeting!\")"
   ]
  },
  {
   "cell_type": "markdown",
   "id": "28147a3a",
   "metadata": {},
   "source": [
    "# 9. \n",
    "### CTRL+C"
   ]
  },
  {
   "cell_type": "markdown",
   "id": "3b0c1a65",
   "metadata": {},
   "source": [
    "# 10. \n",
    "### Break:- This statement stops the loop in which the statement is placed. \n",
    "### Continue:- It skips a single iteration in a current loop. \n",
    "### Both break and continue statementsare valid in for or a while loop"
   ]
  },
  {
   "cell_type": "markdown",
   "id": "36023705",
   "metadata": {},
   "source": [
    "# 11.\n",
    "### range(10), In this case we only have the end position .i.e range(stop). the loop will continue till 10, irrespective of the position from where it starts\n",
    "### range(0, 10), here we have start as well as stop position .i.e range(start, stop). loop will execute from 1 to 10 \n",
    "### range(0, 10, 1), it has start, stop as well as step mentioned .i.e range(start, stop, step), loop will execute from 1 to 10 and for 10 times as the steps are mentioned(1)"
   ]
  },
  {
   "cell_type": "markdown",
   "id": "b5799386",
   "metadata": {},
   "source": [
    "# 12.\n"
   ]
  },
  {
   "cell_type": "code",
   "execution_count": 8,
   "id": "225eddb6",
   "metadata": {},
   "outputs": [
    {
     "name": "stdout",
     "output_type": "stream",
     "text": [
      "1\n",
      "2\n",
      "3\n",
      "4\n",
      "5\n",
      "6\n",
      "7\n",
      "8\n",
      "9\n"
     ]
    }
   ],
   "source": [
    "for i in range(1,10):\n",
    "    print(i)"
   ]
  },
  {
   "cell_type": "code",
   "execution_count": 10,
   "id": "e25b76a7",
   "metadata": {},
   "outputs": [
    {
     "name": "stdout",
     "output_type": "stream",
     "text": [
      "1\n",
      "2\n",
      "3\n",
      "4\n",
      "5\n",
      "6\n",
      "7\n",
      "8\n",
      "9\n",
      "10\n"
     ]
    }
   ],
   "source": [
    "i=1\n",
    "while (i<=10):\n",
    "    print(i)\n",
    "    i=i+1\n",
    "    "
   ]
  },
  {
   "cell_type": "markdown",
   "id": "8c1328ec",
   "metadata": {},
   "source": [
    "# 13.\n",
    "### spam.bacon()"
   ]
  },
  {
   "cell_type": "code",
   "execution_count": null,
   "id": "c1b6f9a0",
   "metadata": {},
   "outputs": [],
   "source": []
  }
 ],
 "metadata": {
  "kernelspec": {
   "display_name": "Python 3",
   "language": "python",
   "name": "python3"
  },
  "language_info": {
   "codemirror_mode": {
    "name": "ipython",
    "version": 3
   },
   "file_extension": ".py",
   "mimetype": "text/x-python",
   "name": "python",
   "nbconvert_exporter": "python",
   "pygments_lexer": "ipython3",
   "version": "3.8.8"
  }
 },
 "nbformat": 4,
 "nbformat_minor": 5
}
