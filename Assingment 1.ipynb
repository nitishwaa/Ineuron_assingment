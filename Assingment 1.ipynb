{
 "cells": [
  {
   "cell_type": "markdown",
   "id": "a33fd4ec",
   "metadata": {},
   "source": [
    "# 1. \n",
    "### values:- 'hello', -87.8, 6 \n",
    "### Expression:- *, -, /, + \n",
    "\n"
   ]
  },
  {
   "cell_type": "markdown",
   "id": "83cde90a",
   "metadata": {},
   "source": [
    "# 2.\n",
    "# Variable \n",
    "### It is a name of space allocated for the data to be stored in the memory.\n",
    "# String\n",
    "### It is one of the kind of data or a data type that is stored in the varibale. String is used to store texts and characters"
   ]
  },
  {
   "cell_type": "markdown",
   "id": "559cd3ec",
   "metadata": {},
   "source": [
    "# 3\n",
    "## Following are the three data types:-\n",
    "### a. Integer(int):- Used to store integer data type. e.g:- -7, 0, 7, 10089, -5825\n",
    "### b. Float(float):- Used to store decimal (fractional) data type. e.g:- 7.5, 0.3, 6.9\n",
    "### c. Boolean(bool):- Used to store either true or false word. e.g:- True, False"
   ]
  },
  {
   "cell_type": "markdown",
   "id": "de4fd830",
   "metadata": {},
   "source": [
    "# 4\n",
    "### An Expression is made up of various operator, operand, function, command which returns a data as an output after execution at the compilers end."
   ]
  },
  {
   "cell_type": "markdown",
   "id": "7c769fc2",
   "metadata": {},
   "source": [
    "# 5. \n",
    "## An Expression is made up of various operator, operand, function, command which returns a data as an output after execution at the compilers end.\n",
    "## A statement is simply anything which does not returns any output and stays in the program mainly for the convinence of developers."
   ]
  },
  {
   "cell_type": "markdown",
   "id": "e80ca90d",
   "metadata": {},
   "source": [
    "# 6.\n",
    "## bacon=22. Increased value is not being assigned hence, it will have the same value"
   ]
  },
  {
   "cell_type": "markdown",
   "id": "a95b1f06",
   "metadata": {},
   "source": [
    "# 7.\n",
    "### a. spamspamspam\n",
    "### b. spamspamspam"
   ]
  },
  {
   "cell_type": "markdown",
   "id": "701e0155",
   "metadata": {},
   "source": [
    "# 8. \n",
    "### eggs is a valid varibale name because it follows all the naming conventions, where as 100 is invalid because we cannot have  a varible name starting with a number, whereas we can have numbers followed by alpabhabets as a valid variable name. eg. a1."
   ]
  },
  {
   "cell_type": "markdown",
   "id": "5e97004b",
   "metadata": {},
   "source": [
    "# 9.\n",
    "### int()for integer.\n",
    "### float() for floating point number\n",
    "### by default the value is accepted in string. but in order to conert it explicitly we use str() function"
   ]
  },
  {
   "cell_type": "markdown",
   "id": "162bf8f5",
   "metadata": {},
   "source": [
    "# 10.\n",
    "## 'I have eaten ' + 99 + ' burritos.' is an invalid expression as string can only be concatenated with string not integer."
   ]
  },
  {
   "cell_type": "code",
   "execution_count": 8,
   "id": "61c5e6cc",
   "metadata": {},
   "outputs": [
    {
     "name": "stdout",
     "output_type": "stream",
     "text": [
      "I have eaten  99  burritos.\n"
     ]
    }
   ],
   "source": [
    "print('I have eaten ',99,' burritos.')"
   ]
  },
  {
   "cell_type": "code",
   "execution_count": 9,
   "id": "0d3bfd8a",
   "metadata": {},
   "outputs": [
    {
     "ename": "TypeError",
     "evalue": "can only concatenate str (not \"int\") to str",
     "output_type": "error",
     "traceback": [
      "\u001b[1;31m---------------------------------------------------------------------------\u001b[0m",
      "\u001b[1;31mTypeError\u001b[0m                                 Traceback (most recent call last)",
      "\u001b[1;32m<ipython-input-9-522fed02eed6>\u001b[0m in \u001b[0;36m<module>\u001b[1;34m\u001b[0m\n\u001b[1;32m----> 1\u001b[1;33m \u001b[1;34m'I have eaten '\u001b[0m\u001b[1;33m+\u001b[0m\u001b[1;36m99\u001b[0m\u001b[1;33m+\u001b[0m\u001b[1;34m' burritos.'\u001b[0m\u001b[1;33m\u001b[0m\u001b[1;33m\u001b[0m\u001b[0m\n\u001b[0m",
      "\u001b[1;31mTypeError\u001b[0m: can only concatenate str (not \"int\") to str"
     ]
    }
   ],
   "source": [
    "'I have eaten '+99+' burritos.'"
   ]
  },
  {
   "cell_type": "code",
   "execution_count": null,
   "id": "8b15f589",
   "metadata": {},
   "outputs": [],
   "source": []
  }
 ],
 "metadata": {
  "kernelspec": {
   "display_name": "Python 3",
   "language": "python",
   "name": "python3"
  },
  "language_info": {
   "codemirror_mode": {
    "name": "ipython",
    "version": 3
   },
   "file_extension": ".py",
   "mimetype": "text/x-python",
   "name": "python",
   "nbconvert_exporter": "python",
   "pygments_lexer": "ipython3",
   "version": "3.8.8"
  }
 },
 "nbformat": 4,
 "nbformat_minor": 5
}
