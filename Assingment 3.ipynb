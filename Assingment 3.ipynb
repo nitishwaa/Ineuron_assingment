{
 "cells": [
  {
   "cell_type": "markdown",
   "id": "3f222803",
   "metadata": {},
   "source": [
    "# 1\n",
    "## a. Increasing reusability of code\n",
    "## b. Minimizing redundancy(duplicate codes)\n",
    "## c. Creating segments hence, procedural decomposition\n",
    "## d. Make programs simpler to read and understand"
   ]
  },
  {
   "cell_type": "markdown",
   "id": "8b54b576",
   "metadata": {},
   "source": [
    "# 2\n",
    "## A function is executed only when it is called and not declared. While declaring a function, only space is allocated in the memory."
   ]
  },
  {
   "cell_type": "markdown",
   "id": "9f17855e",
   "metadata": {},
   "source": [
    "# 3\n",
    "## 'def' keyword is use to create a function"
   ]
  },
  {
   "cell_type": "markdown",
   "id": "e91fc273",
   "metadata": {},
   "source": [
    "# 4\n",
    "## Function - a function is a segment or block of code which and be executed multiole times which therefore increases the reusability of code. \n",
    "## Function call is the process of calling and executing a function. we can call a function from various places within a code."
   ]
  },
  {
   "cell_type": "markdown",
   "id": "8d3f25ad",
   "metadata": {},
   "source": [
    "# 5\n",
    "## Global Scope -\n",
    "### A variable created in the main body of the Python code is a global variable and belongs to the global scope. Global variables are available from within any scope, global and local.\n",
    "\n",
    "## Local Scope\n",
    "### A variable created inside a function belongs to the local scope of that function, and can only be used inside that function."
   ]
  },
  {
   "cell_type": "markdown",
   "id": "c9c74aac",
   "metadata": {},
   "source": [
    "# 6\n",
    "## Local Scope\n",
    "### A variable created inside a function belongs to the local scope of that function, and can only be used inside that function"
   ]
  },
  {
   "cell_type": "markdown",
   "id": "695ffc33",
   "metadata": {},
   "source": [
    "# 7\n",
    "## A return statement is used to end the execution of the function call and returns the result (value of the expression following the return keyword) to the caller. \n",
    "## Yes, It is possible to have a return value in an expression."
   ]
  },
  {
   "cell_type": "markdown",
   "id": "eba09473",
   "metadata": {},
   "source": [
    "# 8\n",
    "## The function always returns \"None\" if explicit \"return\" is not written in the function."
   ]
  },
  {
   "cell_type": "markdown",
   "id": "9ce8a1a5",
   "metadata": {},
   "source": [
    "# 9\n",
    "## Global Scope -\n",
    "### A variable created in the main body of the Python code is a global variable and belongs to the global scope. Global variables are available from within any scope, global and local."
   ]
  },
  {
   "cell_type": "markdown",
   "id": "3f437f26",
   "metadata": {},
   "source": [
    "# 10\n",
    "## None is a data type of its own (NoneType)"
   ]
  },
  {
   "cell_type": "markdown",
   "id": "06a4dec7",
   "metadata": {},
   "source": [
    "# 11\n",
    "## import areallyourpetsnamederic imports the module named areallyourpetsnamederic from the library in which it is stored."
   ]
  },
  {
   "cell_type": "markdown",
   "id": "49e350a9",
   "metadata": {},
   "source": [
    "# 12 \n"
   ]
  },
  {
   "cell_type": "markdown",
   "id": "c3742a45",
   "metadata": {},
   "source": [
    "#### import spam\n",
    "#### spam.bacon()\n",
    "\n",
    "#### or \n",
    "\n",
    "#### import spam.bacon()"
   ]
  },
  {
   "cell_type": "markdown",
   "id": "8697655d",
   "metadata": {},
   "source": [
    "# 13\n",
    "## In order to avoid crashing of an entire code we can use exception handling which dedicatedly tackles exception and if it remains un resolved it executes the codes written in \"finally\" segment "
   ]
  },
  {
   "cell_type": "markdown",
   "id": "69ca5cce",
   "metadata": {},
   "source": [
    "# 14\n",
    "## If there is no exception, then only the \"try\" clause will run, except the clause is finished. If any exception occurs, the try clause will be skipped and \"except\" clause will run."
   ]
  },
  {
   "cell_type": "code",
   "execution_count": null,
   "id": "fb075c02",
   "metadata": {},
   "outputs": [],
   "source": []
  }
 ],
 "metadata": {
  "kernelspec": {
   "display_name": "Python 3",
   "language": "python",
   "name": "python3"
  },
  "language_info": {
   "codemirror_mode": {
    "name": "ipython",
    "version": 3
   },
   "file_extension": ".py",
   "mimetype": "text/x-python",
   "name": "python",
   "nbconvert_exporter": "python",
   "pygments_lexer": "ipython3",
   "version": "3.8.8"
  }
 },
 "nbformat": 4,
 "nbformat_minor": 5
}
